{
  "nbformat": 4,
  "nbformat_minor": 0,
  "metadata": {
    "colab": {
      "provenance": [],
      "authorship_tag": "ABX9TyNvnmimGrTn8bYy1YKJ0dIY",
      "include_colab_link": true
    },
    "kernelspec": {
      "name": "python3",
      "display_name": "Python 3"
    },
    "language_info": {
      "name": "python"
    }
  },
  "cells": [
    {
      "cell_type": "markdown",
      "metadata": {
        "id": "view-in-github",
        "colab_type": "text"
      },
      "source": [
        "<a href=\"https://colab.research.google.com/github/madisonwilliams1/bme3053c/blob/homework/Homework3.ipynb\" target=\"_parent\"><img src=\"https://colab.research.google.com/assets/colab-badge.svg\" alt=\"Open In Colab\"/></a>"
      ]
    },
    {
      "cell_type": "code",
      "execution_count": 2,
      "metadata": {
        "id": "VIKUM0NTiIM9",
        "colab": {
          "base_uri": "https://localhost:8080/"
        },
        "outputId": "ebb33418-6c84-4351-8737-deea407d8c21"
      },
      "outputs": [
        {
          "output_type": "stream",
          "name": "stdout",
          "text": [
            "23\n"
          ]
        }
      ],
      "source": [
        "import math\n",
        "import random\n",
        "ppg_signal = [1000 + 100 * math.sin(0.1 * x) + random.randint(-20, 20) for x in range(100)]\n",
        "\n",
        "\n",
        "def check_for_peaks(signal):\n",
        "  peak = 0\n",
        "  for i in range(2,99,1):\n",
        "    if signal[i]>signal[i-1] and signal[i]<signal[i+1]:\n",
        "      peak+=1\n",
        "  return peak\n",
        "\n",
        "total_peaks = check_for_peaks(ppg_signal)\n",
        "print(total_peaks)"
      ]
    }
  ]
}