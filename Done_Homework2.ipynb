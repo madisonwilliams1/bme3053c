{
  "nbformat": 4,
  "nbformat_minor": 0,
  "metadata": {
    "colab": {
      "provenance": [],
      "authorship_tag": "ABX9TyNBy593lQtR7pM5no5q0Te/",
      "include_colab_link": true
    },
    "kernelspec": {
      "name": "python3",
      "display_name": "Python 3"
    },
    "language_info": {
      "name": "python"
    }
  },
  "cells": [
    {
      "cell_type": "markdown",
      "metadata": {
        "id": "view-in-github",
        "colab_type": "text"
      },
      "source": [
        "<a href=\"https://colab.research.google.com/github/madisonwilliams1/bme3053c/blob/homework/Done_Homework2.ipynb\" target=\"_parent\"><img src=\"https://colab.research.google.com/assets/colab-badge.svg\" alt=\"Open In Colab\"/></a>"
      ]
    },
    {
      "cell_type": "code",
      "execution_count": 7,
      "metadata": {
        "id": "qJGcg_EHPyQ9",
        "outputId": "f2ce070d-37cf-4c7a-d445-2b8008a068b2",
        "colab": {
          "base_uri": "https://localhost:8080/"
        }
      },
      "outputs": [
        {
          "output_type": "stream",
          "name": "stdout",
          "text": [
            "[0.0, 0.32075471698113206, 0.5849056603773585, 0.05660377358490566, 0.7924528301886793, 1.0, 0.1320754716981132, 0.6415094339622641]\n"
          ]
        }
      ],
      "source": [
        "#Homework\n",
        "bp_readings = [120, 137, 151, 123, 162, 173, 127, 154]\n",
        "\n",
        "def normalize_array(in_array):\n",
        "  min_val = min(in_array)\n",
        "  max_val = max(in_array)\n",
        "  norm_array = []\n",
        "  for val in in_array:\n",
        "    normalized_val = (val-min_val)/(max_val-min_val)\n",
        "    norm_array.append(normalized_val)\n",
        "  return norm_array\n",
        "\n",
        "normalized = normalize_array(bp_readings)\n",
        "print(normalized)\n",
        "\n"
      ]
    }
  ]
}