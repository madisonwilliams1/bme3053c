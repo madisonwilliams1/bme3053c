{
  "nbformat": 4,
  "nbformat_minor": 0,
  "metadata": {
    "colab": {
      "provenance": [],
      "authorship_tag": "ABX9TyOg0Nm2up1LcqtmGRqM8a34",
      "include_colab_link": true
    },
    "kernelspec": {
      "name": "python3",
      "display_name": "Python 3"
    },
    "language_info": {
      "name": "python"
    }
  },
  "cells": [
    {
      "cell_type": "markdown",
      "metadata": {
        "id": "view-in-github",
        "colab_type": "text"
      },
      "source": [
        "<a href=\"https://colab.research.google.com/github/madisonwilliams1/bme3053c/blob/homework/Homework2.ipynb\" target=\"_parent\"><img src=\"https://colab.research.google.com/assets/colab-badge.svg\" alt=\"Open In Colab\"/></a>"
      ]
    },
    {
      "cell_type": "code",
      "execution_count": 36,
      "metadata": {
        "id": "qJGcg_EHPyQ9"
      },
      "outputs": [],
      "source": [
        "bp_readings = [120, 137, 151, 123, 162, 173, 127, 154]\n",
        "\n",
        "def normalize_array(in_array):\n",
        "  min_val = min(in_array)\n",
        "  max_val = max(in_array)\n",
        "  norm_array = []\n",
        "for val in in_array:\n",
        "    normalized_val = (val-min_val)/(max_val-min_val)\n",
        "    norm_array = [norm_array, (normalized_val)]\n",
        "\n",
        "normalize_array(bp_readings)\n",
        "\n",
        "print(norm_array)"
      ]
    }
  ]
}